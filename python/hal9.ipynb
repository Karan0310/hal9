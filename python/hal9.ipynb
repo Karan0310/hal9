{
 "cells": [
  {
      "cell_type": "code",
      "source": [
        "!pip install hal9"
      ],
      "metadata": {},
      "execution_count": null,
      "outputs": []
    },
    {
      "cell_type": "code",
      "source": [
        "%%writefile app.py\n",
        "import sys\n",
        "\n",
        "name = input(\"What's your name!? \")\n",
        "print(f\"Hello {name}\")"
      ],
      "metadata": {},
      "execution_count": null,
      "outputs": []
    },
    {
      "cell_type": "code",
      "source": [
        "!hal9 run ."
      ],
      "metadata": {},
      "execution_count": null,
      "outputs": []
    },
    {
      "cell_type": "code",
      "source": [
        "!HAL9_TOKEN= hal9 deploy ."
      ],
      "metadata": {},
      "execution_count": null,
      "outputs": []
    }
 ],
 "metadata": {
  "language_info": {
   "name": "python"
  }
 },
 "nbformat": 4,
 "nbformat_minor": 2
}