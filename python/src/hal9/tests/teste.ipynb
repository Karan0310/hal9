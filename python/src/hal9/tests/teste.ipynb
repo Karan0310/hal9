{
 "cells": [
  {
   "cell_type": "code",
   "execution_count": 6,
   "metadata": {},
   "outputs": [
    {
     "name": "stderr",
     "output_type": "stream",
     "text": [
      "C:\\Users\\Fernando\\AppData\\Local\\Temp\\ipykernel_35040\\837085584.py:2: DeprecationWarning: Importing display from IPython.core.display is deprecated since IPython 7.14, please import from IPython display\n",
      "  from IPython.core.display import display, HTML\n"
     ]
    }
   ],
   "source": [
    "import hal9\n",
    "from IPython.core.display import display, HTML\n",
    "import json"
   ]
  },
  {
   "cell_type": "code",
   "execution_count": 10,
   "metadata": {},
   "outputs": [
    {
     "data": {
      "text/html": [
       "<script>\n",
       "    window.hal9 = {\n",
       "      data: \"\",\n",
       "      pipeline: {\n",
       "        \"steps\": [{\"name\": \"dataframe\", \"label\": \"DataFrame\", \"language\": \"javascript\", \"description\": \"Loads a dataframe\", \"icon\": \"fa-light fa-columns-3\", \"params\": {}, \"id\": 1}]\",\n",
       "        \"params\": {\"1\": {\"dataset\": {\"name\": \"dataset\", \"label\": \"Dataset\", \"description\": \"The dataframe to load\", \"value\": [{\"control\": \"dataframe\"}]}}}\",\n",
       "        \"outputs\": {}\",\n",
       "        scripts\": { \"1\": \"data = window.hal9.data\" },\n",
       "        \"version\": \"0.0.1\"\n",
       "      }\n",
       "    }\n",
       "    </script>\n",
       "    <script defer src=\"https://hal9.com/hal9.notebook.js\"></script>\n",
       "    <div style='width: 100%; padding: 6px; height: 400px'><div id='app'></div></div>"
      ],
      "text/plain": [
       "<IPython.core.display.HTML object>"
      ]
     },
     "metadata": {},
     "output_type": "display_data"
    }
   ],
   "source": [
    "import hal9\n",
    "import pandas\n",
    "\n",
    "pipeline = hal9.hal9()\n",
    "\n",
    "hal9.hal9().add_step(\"load\").show()"
   ]
  },
  {
   "cell_type": "code",
   "execution_count": 11,
   "metadata": {},
   "outputs": [
    {
     "data": {
      "text/html": [
       "<div id=\"app\"></div><script>        const css = `\n",
       "          #output {\n",
       "            display: flex;\n",
       "            flex-direction: column;\n",
       "          }`;\n",
       "\n",
       "        const pipeline_json = {\n",
       "          \"steps\": [{\"name\": \"dataframe\", \"label\": \"DataFrame\", \"language\": \"javascript\", \"description\": \"Loads a dataframe\", \"icon\": \"fa-light fa-columns-3\", \"params\": {}, \"id\": 1}],\n",
       "          \"params\": {\"1\": {\"dataset\": {\"name\": \"dataset\", \"label\": \"Dataset\", \"description\": \"The dataframe to load\", \"value\": [{\"control\": \"dataframe\", \"id\": 0, \"value\": [{cyl:1,mpg:2},{cyl:2,mpg:3 }] }], \"static\": true}}},\n",
       "          \"outputs\": {},\n",
       "          \"scripts\": [],\n",
       "          \"version\": \"0.0.1\"\n",
       "        }\n",
       "\n",
       "        hal9.init({\n",
       "          iframe: true,\n",
       "          html: document.getElementById('app'),\n",
       "          api: \"https://cdn.jsdelivr.net/npm/hal9@0.2.78/dist/hal9.min.js\",\n",
       "          css: css,\n",
       "          editable: true,\n",
       "          mode: \"run\",\n",
       "          pipeline: pipeline_json\n",
       "        }, {}).then(function(hal9) {\n",
       "          if (hal9) {\n",
       "            hal9.load(pipeline_json).then(function(pid) {\n",
       "              hal9.run(pid, { html: 'output', shadow: false });\n",
       "            });\n",
       "          }\n",
       "        });\n",
       "      </script>"
      ],
      "text/plain": [
       "<IPython.core.display.HTML object>"
      ]
     },
     "metadata": {},
     "output_type": "display_data"
    }
   ],
   "source": [
    "from IPython.display import display, HTML\n",
    "\n",
    "display(HTML(\"\"\"<div id=\"app\"></div><script>        const css = `\n",
    "          #output {\n",
    "            display: flex;\n",
    "            flex-direction: column;\n",
    "          }`;\n",
    "\n",
    "        const pipeline_json = {\n",
    "          \"steps\": [{\"name\": \"dataframe\", \"label\": \"DataFrame\", \"language\": \"javascript\", \"description\": \"Loads a dataframe\", \"icon\": \"fa-light fa-columns-3\", \"params\": {}, \"id\": 1}],\n",
    "          \"params\": {\"1\": {\"dataset\": {\"name\": \"dataset\", \"label\": \"Dataset\", \"description\": \"The dataframe to load\", \"value\": [{\"control\": \"dataframe\", \"id\": 0, \"value\": [{cyl:1,mpg:2},{cyl:2,mpg:3 }] }], \"static\": true}}},\n",
    "          \"outputs\": {},\n",
    "          \"scripts\": [],\n",
    "          \"version\": \"0.0.1\"\n",
    "        }\n",
    "\n",
    "        hal9.init({\n",
    "          iframe: true,\n",
    "          html: document.getElementById('app'),\n",
    "          api: \"https://cdn.jsdelivr.net/npm/hal9@0.2.78/dist/hal9.min.js\",\n",
    "          css: css,\n",
    "          editable: true,\n",
    "          mode: \"run\",\n",
    "          pipeline: pipeline_json\n",
    "        }, {}).then(function(hal9) {\n",
    "          if (hal9) {\n",
    "            hal9.load(pipeline_json).then(function(pid) {\n",
    "              hal9.run(pid, { html: 'output', shadow: false });\n",
    "            });\n",
    "          }\n",
    "        });\n",
    "      </script>\"\"\"))"
   ]
  }
 ],
 "metadata": {
  "kernelspec": {
   "display_name": "Python 3.9.13 64-bit",
   "language": "python",
   "name": "python3"
  },
  "language_info": {
   "codemirror_mode": {
    "name": "ipython",
    "version": 3
   },
   "file_extension": ".py",
   "mimetype": "text/x-python",
   "name": "python",
   "nbconvert_exporter": "python",
   "pygments_lexer": "ipython3",
   "version": "3.9.13"
  },
  "orig_nbformat": 4,
  "vscode": {
   "interpreter": {
    "hash": "8e284ee3255a07ad8bf76694974743c4c81cb57e7c969474d752d949b11d721e"
   }
  }
 },
 "nbformat": 4,
 "nbformat_minor": 2
}
