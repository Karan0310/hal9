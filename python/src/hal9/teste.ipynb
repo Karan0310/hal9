{
 "cells": [
  {
   "cell_type": "code",
   "execution_count": 15,
   "metadata": {},
   "outputs": [
    {
     "name": "stderr",
     "output_type": "stream",
     "text": [
      "C:\\Users\\Fernando\\AppData\\Local\\Temp\\ipykernel_25512\\837085584.py:2: DeprecationWarning: Importing display from IPython.core.display is deprecated since IPython 7.14, please import from IPython display\n",
      "  from IPython.core.display import display, HTML\n"
     ]
    }
   ],
   "source": [
    "import hal9\n",
    "from IPython.core.display import display, HTML\n",
    "import json"
   ]
  },
  {
   "cell_type": "code",
   "execution_count": 16,
   "metadata": {},
   "outputs": [
    {
     "name": "stdout",
     "output_type": "stream",
     "text": [
      "{'dataset':    cyl  mpg\n",
      "0    1    2\n",
      "1    2    3}\n"
     ]
    },
    {
     "ename": "NameError",
     "evalue": "name 'encode' is not defined",
     "output_type": "error",
     "traceback": [
      "\u001b[1;31m---------------------------------------------------------------------------\u001b[0m",
      "\u001b[1;31mNameError\u001b[0m                                 Traceback (most recent call last)",
      "\u001b[1;32md:\\hal9ai5\\python\\src\\hal9\\teste.ipynb Célula: 2\u001b[0m in \u001b[0;36m<module>\u001b[1;34m\u001b[0m\n\u001b[0;32m      <a href='vscode-notebook-cell:/d%3A/hal9ai5/python/src/hal9/teste.ipynb#ch0000003?line=4'>5</a>\u001b[0m DF \u001b[39m=\u001b[39m pandas\u001b[39m.\u001b[39mDataFrame({\u001b[39m\"\u001b[39m\u001b[39mcyl\u001b[39m\u001b[39m\"\u001b[39m: [\u001b[39m1\u001b[39m,\u001b[39m2\u001b[39m], \u001b[39m\"\u001b[39m\u001b[39mmpg\u001b[39m\u001b[39m\"\u001b[39m: [\u001b[39m2\u001b[39m,\u001b[39m3\u001b[39m]})\n\u001b[0;32m      <a href='vscode-notebook-cell:/d%3A/hal9ai5/python/src/hal9/teste.ipynb#ch0000003?line=6'>7</a>\u001b[0m pipeline\u001b[39m.\u001b[39madd_step(\u001b[39m\"\u001b[39m\u001b[39mload\u001b[39m\u001b[39m\"\u001b[39m, dataset \u001b[39m=\u001b[39m DF)\n\u001b[0;32m      <a href='vscode-notebook-cell:/d%3A/hal9ai5/python/src/hal9/teste.ipynb#ch0000003?line=8'>9</a>\u001b[0m display(HTML(\u001b[39m\"\"\"\u001b[39m\u001b[39m<script>\u001b[39m\n\u001b[0;32m     <a href='vscode-notebook-cell:/d%3A/hal9ai5/python/src/hal9/teste.ipynb#ch0000003?line=9'>10</a>\u001b[0m \u001b[39m    window.hal9 = \u001b[39m\u001b[39m{\u001b[39m\n\u001b[0;32m     <a href='vscode-notebook-cell:/d%3A/hal9ai5/python/src/hal9/teste.ipynb#ch0000003?line=10'>11</a>\u001b[0m \u001b[39m      data: \u001b[39m\u001b[39m\"\u001b[39m\u001b[39m\"\u001b[39m\u001b[39m,\u001b[39m\n\u001b[0;32m     <a href='vscode-notebook-cell:/d%3A/hal9ai5/python/src/hal9/teste.ipynb#ch0000003?line=11'>12</a>\u001b[0m \u001b[39m      pipeline: \u001b[39m\u001b[39m{\u001b[39m\n\u001b[1;32m---> <a href='vscode-notebook-cell:/d%3A/hal9ai5/python/src/hal9/teste.ipynb#ch0000003?line=12'>13</a>\u001b[0m \u001b[39m        \u001b[39m\u001b[39m\"\u001b[39m\u001b[39msteps\u001b[39m\u001b[39m\"\u001b[39m\u001b[39m: \u001b[39m\u001b[39m\"\"\"\u001b[39m \u001b[39m+\u001b[39m encode(pipeline\u001b[39m.\u001b[39msteps) \u001b[39m+\u001b[39m \u001b[39m\"\"\"\u001b[39m\u001b[39m\"\u001b[39m\u001b[39m,\u001b[39m\n\u001b[0;32m     <a href='vscode-notebook-cell:/d%3A/hal9ai5/python/src/hal9/teste.ipynb#ch0000003?line=13'>14</a>\u001b[0m \u001b[39m        \u001b[39m\u001b[39m\"\u001b[39m\u001b[39mparams\u001b[39m\u001b[39m\"\u001b[39m\u001b[39m: \u001b[39m\u001b[39m\"\"\"\u001b[39m \u001b[39m+\u001b[39m encode(pipeline\u001b[39m.\u001b[39mparams) \u001b[39m+\u001b[39m \u001b[39m\"\"\"\u001b[39m\u001b[39m\"\u001b[39m\u001b[39m,\u001b[39m\n\u001b[0;32m     <a href='vscode-notebook-cell:/d%3A/hal9ai5/python/src/hal9/teste.ipynb#ch0000003?line=14'>15</a>\u001b[0m \u001b[39m        \u001b[39m\u001b[39m\"\u001b[39m\u001b[39moutputs\u001b[39m\u001b[39m\"\u001b[39m\u001b[39m: \u001b[39m\u001b[39m\"\"\"\u001b[39m \u001b[39m+\u001b[39m encode(pipeline\u001b[39m.\u001b[39moutputs) \u001b[39m+\u001b[39m \u001b[39m\"\"\"\u001b[39m\u001b[39m\"\u001b[39m\u001b[39m,\u001b[39m\n\u001b[0;32m     <a href='vscode-notebook-cell:/d%3A/hal9ai5/python/src/hal9/teste.ipynb#ch0000003?line=15'>16</a>\u001b[0m \u001b[39m        scripts\u001b[39m\u001b[39m\"\u001b[39m\u001b[39m: \u001b[39m\u001b[39m{\u001b[39m\u001b[39m \u001b[39m\u001b[39m\"\u001b[39m\u001b[39m1\u001b[39m\u001b[39m\"\u001b[39m\u001b[39m: \u001b[39m\u001b[39m\"\u001b[39m\u001b[39mdata = window.hal9.data\u001b[39m\u001b[39m\"\u001b[39m\u001b[39m },\u001b[39m\n\u001b[0;32m     <a href='vscode-notebook-cell:/d%3A/hal9ai5/python/src/hal9/teste.ipynb#ch0000003?line=16'>17</a>\u001b[0m \u001b[39m        \u001b[39m\u001b[39m\"\u001b[39m\u001b[39mversion\u001b[39m\u001b[39m\"\u001b[39m\u001b[39m: \u001b[39m\u001b[39m\"\u001b[39m\u001b[39m0.0.1\u001b[39m\u001b[39m\"\u001b[39m\n\u001b[0;32m     <a href='vscode-notebook-cell:/d%3A/hal9ai5/python/src/hal9/teste.ipynb#ch0000003?line=17'>18</a>\u001b[0m \u001b[39m      }\u001b[39m\n\u001b[0;32m     <a href='vscode-notebook-cell:/d%3A/hal9ai5/python/src/hal9/teste.ipynb#ch0000003?line=18'>19</a>\u001b[0m \u001b[39m    }\u001b[39m\n\u001b[0;32m     <a href='vscode-notebook-cell:/d%3A/hal9ai5/python/src/hal9/teste.ipynb#ch0000003?line=19'>20</a>\u001b[0m \u001b[39m    </script>\u001b[39m\n\u001b[0;32m     <a href='vscode-notebook-cell:/d%3A/hal9ai5/python/src/hal9/teste.ipynb#ch0000003?line=20'>21</a>\u001b[0m \u001b[39m    <script defer src=\u001b[39m\u001b[39m\"\u001b[39m\u001b[39mhttps://hal9.com/hal9.notebook.js\u001b[39m\u001b[39m\"\u001b[39m\u001b[39m></script>\u001b[39m\n\u001b[0;32m     <a href='vscode-notebook-cell:/d%3A/hal9ai5/python/src/hal9/teste.ipynb#ch0000003?line=21'>22</a>\u001b[0m \u001b[39m    <div style=\u001b[39m\u001b[39m'\u001b[39m\u001b[39mwidth: 100\u001b[39m\u001b[39m%\u001b[39m\u001b[39m; padding: 6px; height: \u001b[39m\u001b[39m\"\"\"\u001b[39m \u001b[39m+\u001b[39m \u001b[39m\"\u001b[39m\u001b[39m400\u001b[39m\u001b[39m\"\u001b[39m \u001b[39m+\u001b[39m \u001b[39m\"\u001b[39m\u001b[39mpx\u001b[39m\u001b[39m'\u001b[39m\u001b[39m><div id=\u001b[39m\u001b[39m'\u001b[39m\u001b[39mapp\u001b[39m\u001b[39m'\u001b[39m\u001b[39m></div></div>\u001b[39m\u001b[39m\"\u001b[39m\n\u001b[0;32m     <a href='vscode-notebook-cell:/d%3A/hal9ai5/python/src/hal9/teste.ipynb#ch0000003?line=22'>23</a>\u001b[0m     ))\n",
      "\u001b[1;31mNameError\u001b[0m: name 'encode' is not defined"
     ]
    }
   ],
   "source": [
    "import hal9\n",
    "\n",
    "pipeline = hal9.hal9()\n",
    "\n",
    "DF = pandas.DataFrame({\"cyl\": [1,2], \"mpg\": [2,3]})\n",
    "\n",
    "pipeline.add_step(\"load\", dataset = DF)\n",
    "\n",
    "display(HTML(\"\"\"<script>\n",
    "    window.hal9 = {\n",
    "      data: \"\",\n",
    "      pipeline: {\n",
    "        \"steps\": \"\"\" + hal9.encode(pipeline.steps) + \"\"\"\",\n",
    "        \"params\": \"\"\" + hal9.encode(pipeline.params) + \"\"\"\",\n",
    "        \"outputs\": \"\"\" + hal9.encode(pipeline.outputs) + \"\"\"\",\n",
    "        scripts\": { \"1\": \"data = window.hal9.data\" },\n",
    "        \"version\": \"0.0.1\"\n",
    "      }\n",
    "    }\n",
    "    </script>\n",
    "    <script defer src=\"https://hal9.com/hal9.notebook.js\"></script>\n",
    "    <div style='width: 100%; padding: 6px; height: \"\"\" + \"400\" + \"px'><div id='app'></div></div>\"\n",
    "    ))"
   ]
  },
  {
   "cell_type": "code",
   "execution_count": null,
   "metadata": {},
   "outputs": [],
   "source": []
  }
 ],
 "metadata": {
  "kernelspec": {
   "display_name": "Python 3.9.13 64-bit",
   "language": "python",
   "name": "python3"
  },
  "language_info": {
   "codemirror_mode": {
    "name": "ipython",
    "version": 3
   },
   "file_extension": ".py",
   "mimetype": "text/x-python",
   "name": "python",
   "nbconvert_exporter": "python",
   "pygments_lexer": "ipython3",
   "version": "3.9.13"
  },
  "orig_nbformat": 4,
  "vscode": {
   "interpreter": {
    "hash": "8e284ee3255a07ad8bf76694974743c4c81cb57e7c969474d752d949b11d721e"
   }
  }
 },
 "nbformat": 4,
 "nbformat_minor": 2
}
